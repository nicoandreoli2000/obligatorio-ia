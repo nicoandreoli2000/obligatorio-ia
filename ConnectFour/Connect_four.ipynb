{
 "cells": [
  {
   "cell_type": "code",
   "execution_count": 1,
   "id": "086e05c2",
   "metadata": {},
   "outputs": [],
   "source": [
    "from connect_four_env import ConnectFourBaseEnv\n",
    "from agent import InputAgent\n",
    "from MinimaxAgent import MinimaxAgent\n",
    "from spaceGPT_agent_obf import SpaceGPTAgent"
   ]
  },
  {
   "cell_type": "code",
   "execution_count": 2,
   "id": "6867ae7a",
   "metadata": {},
   "outputs": [
    {
     "data": {
      "text/plain": [
       "Discrete(7)"
      ]
     },
     "execution_count": 2,
     "metadata": {},
     "output_type": "execute_result"
    }
   ],
   "source": [
    "env = ConnectFourBaseEnv()\n",
    "env.action_space"
   ]
  },
  {
   "cell_type": "code",
   "execution_count": 3,
   "id": "fd9d7ee8",
   "metadata": {},
   "outputs": [],
   "source": [
    "input_agent = InputAgent()\n",
    "minimax_agent = MinimaxAgent(-1)"
   ]
  },
  {
   "cell_type": "code",
   "execution_count": 4,
   "id": "8b1b24ba",
   "metadata": {},
   "outputs": [
    {
     "name": "stdout",
     "output_type": "stream",
     "text": [
      "   0   1   2   3   4   5   6  \n",
      " |   |   |   |   |   |   |   |\n",
      " |   |   |   |   |   |   |   |\n",
      " |   |   |   |   |   |   |   |\n",
      " |   |   |   |   |   |   |   |\n",
      " |   |   |   |   |   |   |   |\n",
      " |   |   |   |   |   |   |   |\n",
      "-------------------------------\n"
     ]
    },
    {
     "ename": "IndexError",
     "evalue": "index 6 is out of bounds for axis 0 with size 6",
     "output_type": "error",
     "traceback": [
      "\u001b[0;31m---------------------------------------------------------------------------\u001b[0m",
      "\u001b[0;31mIndexError\u001b[0m                                Traceback (most recent call last)",
      "Cell \u001b[0;32mIn[4], line 7\u001b[0m\n\u001b[1;32m      1\u001b[0m \u001b[39mfrom\u001b[39;00m \u001b[39mplay\u001b[39;00m \u001b[39mimport\u001b[39;00m play_vs_other_agent, play_vs_loaded_agent\n\u001b[1;32m      3\u001b[0m \u001b[39m# play vs space agent\u001b[39;00m\n\u001b[1;32m      4\u001b[0m \u001b[39m# play_vs_loaded_agent(env, agent=minimax_agent)\u001b[39;00m\n\u001b[1;32m      5\u001b[0m \n\u001b[1;32m      6\u001b[0m \u001b[39m# play vs input agent\u001b[39;00m\n\u001b[0;32m----> 7\u001b[0m play_vs_other_agent(env, agent1\u001b[39m=\u001b[39;49mminimax_agent, agent2\u001b[39m=\u001b[39;49minput_agent)\n",
      "File \u001b[0;32m~/Documents/ort/ia/obligatorio-ia/ConnectFour/play.py:9\u001b[0m, in \u001b[0;36mplay_vs_other_agent\u001b[0;34m(env, agent1, agent2)\u001b[0m\n\u001b[1;32m      7\u001b[0m \u001b[39mwhile\u001b[39;00m \u001b[39mnot\u001b[39;00m done:\n\u001b[1;32m      8\u001b[0m     env\u001b[39m.\u001b[39mrender()\n\u001b[0;32m----> 9\u001b[0m     action \u001b[39m=\u001b[39m agent1\u001b[39m.\u001b[39;49mnext_action(obs)\n\u001b[1;32m     10\u001b[0m     obs, reward, done, _ \u001b[39m=\u001b[39m env\u001b[39m.\u001b[39mstep(action)\n\u001b[1;32m     12\u001b[0m     env\u001b[39m.\u001b[39mrender()\n",
      "File \u001b[0;32m~/Documents/ort/ia/obligatorio-ia/ConnectFour/MinimaxAgent.py:10\u001b[0m, in \u001b[0;36mMinimaxAgent.next_action\u001b[0;34m(self, obs)\u001b[0m\n\u001b[1;32m      9\u001b[0m \u001b[39mdef\u001b[39;00m \u001b[39mnext_action\u001b[39m(\u001b[39mself\u001b[39m, obs):\n\u001b[0;32m---> 10\u001b[0m     _, action \u001b[39m=\u001b[39m \u001b[39mself\u001b[39;49m\u001b[39m.\u001b[39;49mminimax(obs, depth\u001b[39m=\u001b[39;49m\u001b[39m5\u001b[39;49m, maximizing_player\u001b[39m=\u001b[39;49m\u001b[39mTrue\u001b[39;49;00m)\n\u001b[1;32m     11\u001b[0m     \u001b[39mreturn\u001b[39;00m action\n",
      "File \u001b[0;32m~/Documents/ort/ia/obligatorio-ia/ConnectFour/MinimaxAgent.py:28\u001b[0m, in \u001b[0;36mMinimaxAgent.minimax\u001b[0;34m(self, board, depth, maximizing_player)\u001b[0m\n\u001b[1;32m     26\u001b[0m board_copy \u001b[39m=\u001b[39m board\u001b[39m.\u001b[39mclone()\n\u001b[1;32m     27\u001b[0m \u001b[39mif\u001b[39;00m board_copy\u001b[39m.\u001b[39madd_tile(action, \u001b[39mself\u001b[39m\u001b[39m.\u001b[39mplayer):\n\u001b[0;32m---> 28\u001b[0m     result, \u001b[39m=\u001b[39m \u001b[39mself\u001b[39;49m\u001b[39m.\u001b[39;49mminimax(board_copy, depth \u001b[39m-\u001b[39;49m \u001b[39m1\u001b[39;49m, \u001b[39mFalse\u001b[39;49;00m)\n\u001b[1;32m     29\u001b[0m     \u001b[39mif\u001b[39;00m result \u001b[39m>\u001b[39m max_eval:\n\u001b[1;32m     30\u001b[0m         max_eval \u001b[39m=\u001b[39m result\n",
      "File \u001b[0;32m~/Documents/ort/ia/obligatorio-ia/ConnectFour/MinimaxAgent.py:38\u001b[0m, in \u001b[0;36mMinimaxAgent.minimax\u001b[0;34m(self, board, depth, maximizing_player)\u001b[0m\n\u001b[1;32m     36\u001b[0m board_copy \u001b[39m=\u001b[39m board\u001b[39m.\u001b[39mclone()\n\u001b[1;32m     37\u001b[0m \u001b[39mif\u001b[39;00m board_copy\u001b[39m.\u001b[39madd_tile(action, \u001b[39m-\u001b[39m\u001b[39mself\u001b[39m\u001b[39m.\u001b[39mplayer):\n\u001b[0;32m---> 38\u001b[0m     result, \u001b[39m=\u001b[39m \u001b[39mself\u001b[39;49m\u001b[39m.\u001b[39;49mminimax(board_copy, depth \u001b[39m-\u001b[39;49m \u001b[39m1\u001b[39;49m, \u001b[39mTrue\u001b[39;49;00m)\n\u001b[1;32m     39\u001b[0m     \u001b[39mif\u001b[39;00m result \u001b[39m<\u001b[39m min_eval:\n\u001b[1;32m     40\u001b[0m         min_eval \u001b[39m=\u001b[39m result\n",
      "File \u001b[0;32m~/Documents/ort/ia/obligatorio-ia/ConnectFour/MinimaxAgent.py:28\u001b[0m, in \u001b[0;36mMinimaxAgent.minimax\u001b[0;34m(self, board, depth, maximizing_player)\u001b[0m\n\u001b[1;32m     26\u001b[0m board_copy \u001b[39m=\u001b[39m board\u001b[39m.\u001b[39mclone()\n\u001b[1;32m     27\u001b[0m \u001b[39mif\u001b[39;00m board_copy\u001b[39m.\u001b[39madd_tile(action, \u001b[39mself\u001b[39m\u001b[39m.\u001b[39mplayer):\n\u001b[0;32m---> 28\u001b[0m     result, \u001b[39m=\u001b[39m \u001b[39mself\u001b[39;49m\u001b[39m.\u001b[39;49mminimax(board_copy, depth \u001b[39m-\u001b[39;49m \u001b[39m1\u001b[39;49m, \u001b[39mFalse\u001b[39;49;00m)\n\u001b[1;32m     29\u001b[0m     \u001b[39mif\u001b[39;00m result \u001b[39m>\u001b[39m max_eval:\n\u001b[1;32m     30\u001b[0m         max_eval \u001b[39m=\u001b[39m result\n",
      "File \u001b[0;32m~/Documents/ort/ia/obligatorio-ia/ConnectFour/MinimaxAgent.py:38\u001b[0m, in \u001b[0;36mMinimaxAgent.minimax\u001b[0;34m(self, board, depth, maximizing_player)\u001b[0m\n\u001b[1;32m     36\u001b[0m board_copy \u001b[39m=\u001b[39m board\u001b[39m.\u001b[39mclone()\n\u001b[1;32m     37\u001b[0m \u001b[39mif\u001b[39;00m board_copy\u001b[39m.\u001b[39madd_tile(action, \u001b[39m-\u001b[39m\u001b[39mself\u001b[39m\u001b[39m.\u001b[39mplayer):\n\u001b[0;32m---> 38\u001b[0m     result, \u001b[39m=\u001b[39m \u001b[39mself\u001b[39;49m\u001b[39m.\u001b[39;49mminimax(board_copy, depth \u001b[39m-\u001b[39;49m \u001b[39m1\u001b[39;49m, \u001b[39mTrue\u001b[39;49;00m)\n\u001b[1;32m     39\u001b[0m     \u001b[39mif\u001b[39;00m result \u001b[39m<\u001b[39m min_eval:\n\u001b[1;32m     40\u001b[0m         min_eval \u001b[39m=\u001b[39m result\n",
      "File \u001b[0;32m~/Documents/ort/ia/obligatorio-ia/ConnectFour/MinimaxAgent.py:28\u001b[0m, in \u001b[0;36mMinimaxAgent.minimax\u001b[0;34m(self, board, depth, maximizing_player)\u001b[0m\n\u001b[1;32m     26\u001b[0m board_copy \u001b[39m=\u001b[39m board\u001b[39m.\u001b[39mclone()\n\u001b[1;32m     27\u001b[0m \u001b[39mif\u001b[39;00m board_copy\u001b[39m.\u001b[39madd_tile(action, \u001b[39mself\u001b[39m\u001b[39m.\u001b[39mplayer):\n\u001b[0;32m---> 28\u001b[0m     result, \u001b[39m=\u001b[39m \u001b[39mself\u001b[39;49m\u001b[39m.\u001b[39;49mminimax(board_copy, depth \u001b[39m-\u001b[39;49m \u001b[39m1\u001b[39;49m, \u001b[39mFalse\u001b[39;49;00m)\n\u001b[1;32m     29\u001b[0m     \u001b[39mif\u001b[39;00m result \u001b[39m>\u001b[39m max_eval:\n\u001b[1;32m     30\u001b[0m         max_eval \u001b[39m=\u001b[39m result\n",
      "File \u001b[0;32m~/Documents/ort/ia/obligatorio-ia/ConnectFour/MinimaxAgent.py:15\u001b[0m, in \u001b[0;36mMinimaxAgent.minimax\u001b[0;34m(self, board, depth, maximizing_player)\u001b[0m\n\u001b[1;32m     13\u001b[0m \u001b[39mdef\u001b[39;00m \u001b[39mminimax\u001b[39m(\u001b[39mself\u001b[39m, board : Board, depth, maximizing_player):\n\u001b[1;32m     14\u001b[0m     \u001b[39mif\u001b[39;00m depth \u001b[39m==\u001b[39m \u001b[39m0\u001b[39m \u001b[39mor\u001b[39;00m board\u001b[39m.\u001b[39mis_final():\n\u001b[0;32m---> 15\u001b[0m         \u001b[39mreturn\u001b[39;00m \u001b[39mself\u001b[39;49m\u001b[39m.\u001b[39;49mheuristic_utility(board), \u001b[39mNone\u001b[39;00m\n\u001b[1;32m     17\u001b[0m     best_action \u001b[39m=\u001b[39m \u001b[39mNone\u001b[39;00m\n\u001b[1;32m     18\u001b[0m     possible_moves \u001b[39m=\u001b[39m board\u001b[39m.\u001b[39mget_posible_actions()\n",
      "File \u001b[0;32m~/Documents/ort/ia/obligatorio-ia/ConnectFour/MinimaxAgent.py:58\u001b[0m, in \u001b[0;36mMinimaxAgent.heuristic_utility\u001b[0;34m(self, board)\u001b[0m\n\u001b[1;32m     56\u001b[0m \u001b[39mfor\u001b[39;00m i \u001b[39min\u001b[39;00m \u001b[39mrange\u001b[39m(board\u001b[39m.\u001b[39mlength):\n\u001b[1;32m     57\u001b[0m     \u001b[39mfor\u001b[39;00m j \u001b[39min\u001b[39;00m \u001b[39mrange\u001b[39m(board\u001b[39m.\u001b[39mheigth):\n\u001b[0;32m---> 58\u001b[0m         player \u001b[39m=\u001b[39m board[i][j]\n\u001b[1;32m     60\u001b[0m         eatable_tiles \u001b[39m=\u001b[39m \u001b[39mself\u001b[39m\u001b[39m.\u001b[39mcount_eatable_tiles(board, player, i, j) \n\u001b[1;32m     61\u001b[0m         threats \u001b[39m=\u001b[39m \u001b[39mself\u001b[39m\u001b[39m.\u001b[39mcountThreats(board, player, i, j)\n",
      "File \u001b[0;32m~/Documents/ort/ia/obligatorio-ia/ConnectFour/board.py:19\u001b[0m, in \u001b[0;36mBoard.__getitem__\u001b[0;34m(self, item)\u001b[0m\n\u001b[1;32m     18\u001b[0m \u001b[39mdef\u001b[39;00m \u001b[39m__getitem__\u001b[39m(\u001b[39mself\u001b[39m, item:\u001b[39mint\u001b[39m) \u001b[39m-\u001b[39m\u001b[39m>\u001b[39m \u001b[39mint\u001b[39m:\n\u001b[0;32m---> 19\u001b[0m     \u001b[39mreturn\u001b[39;00m \u001b[39mself\u001b[39;49m\u001b[39m.\u001b[39;49m_grid[item]\n",
      "\u001b[0;31mIndexError\u001b[0m: index 6 is out of bounds for axis 0 with size 6"
     ]
    }
   ],
   "source": [
    "from play import play_vs_other_agent, play_vs_loaded_agent\n",
    "\n",
    "# play vs space agent\n",
    "# play_vs_loaded_agent(env, agent=minimax_agent)\n",
    "\n",
    "# play vs input agent\n",
    "play_vs_other_agent(env, agent1=minimax_agent, agent2=input_agent)"
   ]
  }
 ],
 "metadata": {
  "kernelspec": {
   "display_name": "Python 3 (ipykernel)",
   "language": "python",
   "name": "python3"
  },
  "language_info": {
   "codemirror_mode": {
    "name": "ipython",
    "version": 3
   },
   "file_extension": ".py",
   "mimetype": "text/x-python",
   "name": "python",
   "nbconvert_exporter": "python",
   "pygments_lexer": "ipython3",
   "version": "3.11.3"
  }
 },
 "nbformat": 4,
 "nbformat_minor": 5
}
