{
 "cells": [
  {
   "cell_type": "code",
   "execution_count": 16,
   "id": "086e05c2",
   "metadata": {},
   "outputs": [],
   "source": [
    "from connect_four_env import ConnectFourBaseEnv\n",
    "from agent import InputAgent\n",
    "from MinimaxAgent import MinimaxAgent\n",
    "from play import play_vs_other_agent, play_vs_loaded_agent"
   ]
  },
  {
   "cell_type": "code",
   "execution_count": 17,
   "id": "6867ae7a",
   "metadata": {},
   "outputs": [],
   "source": [
    "env = ConnectFourBaseEnv()"
   ]
  },
  {
   "cell_type": "code",
   "execution_count": 18,
   "id": "cb710b59",
   "metadata": {},
   "outputs": [
    {
     "name": "stdout",
     "output_type": "stream",
     "text": [
      "0\n",
      "10\n",
      "100\n",
      "0\n",
      "10\n",
      "20\n",
      "0\n",
      "-10\n",
      "-20\n",
      "-90\n",
      "-140\n",
      "-130\n",
      "-140\n",
      "-130\n",
      "-90\n",
      "10440\n",
      "20\n",
      "200\n",
      "10110\n",
      "[['Minimax depth: 1', 'Result: Player 2 WON!!!'], ['Minimax depth: 2', 'Result: Player 1 WON!!!'], ['Minimax depth: 3', 'Result: Player 1 WON!!!']]\n"
     ]
    }
   ],
   "source": [
    "games = []\n",
    "max_depth = 4\n",
    "\n",
    "for i in range(1, max_depth):\n",
    "    minimax_agent_test = MinimaxAgent(1, i)\n",
    "    games.append(['Minimax depth: ' + str(i), 'Result: ' + play_vs_loaded_agent(env, minimax_agent_test, False)])\n",
    "\n",
    "print(games)"
   ]
  },
  {
   "cell_type": "code",
   "execution_count": 19,
   "id": "008a0e92",
   "metadata": {},
   "outputs": [
    {
     "name": "stdout",
     "output_type": "stream",
     "text": [
      "   0   1   2   3   4   5   6  \n",
      " |   |   |   |   |   |   |   |\n",
      " |   |   |   |   |   |   |   |\n",
      " |   |   |   |   |   |   |   |\n",
      " |   |   |   |   |   |   |   |\n",
      " |   |   |   |   |   |   |   |\n",
      " |   |   |   |   |   |   |   |\n",
      "-------------------------------\n",
      "0\n",
      "   0   1   2   3   4   5   6  \n",
      " |   |   |   |   |   |   |   |\n",
      " |   |   |   |   |   |   |   |\n",
      " |   |   |   |   |   |   |   |\n",
      " |   |   |   |   |   |   |   |\n",
      " |   |   |   |   |   |   |   |\n",
      " |   |   | O |   |   |   |   |\n",
      "-------------------------------\n",
      "   0   1   2   3   4   5   6  \n",
      " |   |   |   |   |   |   |   |\n",
      " |   |   |   |   |   |   |   |\n",
      " |   |   |   |   |   |   |   |\n",
      " |   |   |   |   |   |   |   |\n",
      " |   |   | X |   |   |   |   |\n",
      " |   |   | O |   |   |   |   |\n",
      "-------------------------------\n",
      "0\n",
      "   0   1   2   3   4   5   6  \n",
      " |   |   |   |   |   |   |   |\n",
      " |   |   |   |   |   |   |   |\n",
      " |   |   |   |   |   |   |   |\n",
      " |   |   |   |   |   |   |   |\n",
      " |   |   | X |   |   |   |   |\n",
      " |   | O | O |   |   |   |   |\n",
      "-------------------------------\n",
      "   0   1   2   3   4   5   6  \n",
      " |   |   |   |   |   |   |   |\n",
      " |   |   |   |   |   |   |   |\n",
      " |   |   |   |   |   |   |   |\n",
      " |   |   | X |   |   |   |   |\n",
      " |   |   | X |   |   |   |   |\n",
      " |   | O | O |   |   |   |   |\n",
      "-------------------------------\n",
      "10090\n",
      "   0   1   2   3   4   5   6  \n",
      " |   |   |   |   |   |   |   |\n",
      " |   |   |   |   |   |   |   |\n",
      " |   |   |   |   |   |   |   |\n",
      " |   |   | X |   |   |   |   |\n",
      " |   |   | X |   |   |   |   |\n",
      " |   | O | O | O |   |   |   |\n",
      "-------------------------------\n",
      "   0   1   2   3   4   5   6  \n",
      " |   |   |   |   |   |   |   |\n",
      " |   |   |   |   |   |   |   |\n",
      " |   |   | X |   |   |   |   |\n",
      " |   |   | X |   |   |   |   |\n",
      " |   |   | X |   |   |   |   |\n",
      " |   | O | O | O |   |   |   |\n",
      "-------------------------------\n",
      "10100\n",
      "   0   1   2   3   4   5   6  \n",
      " |   |   |   |   |   |   |   |\n",
      " |   |   |   |   |   |   |   |\n",
      " |   |   | X |   |   |   |   |\n",
      " |   |   | X |   |   |   |   |\n",
      " |   |   | X |   |   |   |   |\n",
      " |   | O | O | O | O |   |   |\n",
      "-------------------------------\n",
      "   0   1   2   3   4   5   6  \n",
      " |   |   |   |   |   |   |   |\n",
      " |   |   |   |   |   |   |   |\n",
      " |   |   | X |   |   |   |   |\n",
      " |   |   | X |   |   |   |   |\n",
      " |   |   | X |   |   |   |   |\n",
      " |   | O | O | O | O |   |   |\n",
      "-------------------------------\n",
      "Player 1 WON!!!\n"
     ]
    }
   ],
   "source": [
    "player = 1\n",
    "depth = 4\n",
    "\n",
    "minimax_agent = MinimaxAgent(player, depth)\n",
    "input_agent = InputAgent()\n",
    "\n",
    "if player == 1:\n",
    "    play_vs_other_agent(env, minimax_agent, input_agent)\n",
    "elif player == 2:\n",
    "    play_vs_other_agent(env, input_agent, minimax_agent)\n",
    "else:\n",
    "    print(\"Invalid player\")"
   ]
  }
 ],
 "metadata": {
  "kernelspec": {
   "display_name": "Python 3 (ipykernel)",
   "language": "python",
   "name": "python3"
  },
  "language_info": {
   "codemirror_mode": {
    "name": "ipython",
    "version": 3
   },
   "file_extension": ".py",
   "mimetype": "text/x-python",
   "name": "python",
   "nbconvert_exporter": "python",
   "pygments_lexer": "ipython3",
   "version": "3.10.11"
  }
 },
 "nbformat": 4,
 "nbformat_minor": 5
}
