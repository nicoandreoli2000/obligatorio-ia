{
 "cells": [
  {
   "cell_type": "code",
   "execution_count": 17,
   "id": "086e05c2",
   "metadata": {},
   "outputs": [],
   "source": [
    "from connect_four_env import ConnectFourBaseEnv\n",
    "from agent import InputAgent\n",
    "from MinimaxAgent import MinimaxAgent\n",
    "from spaceGPT_agent_obf import SpaceGPTAgent"
   ]
  },
  {
   "cell_type": "code",
   "execution_count": 18,
   "id": "6867ae7a",
   "metadata": {},
   "outputs": [
    {
     "data": {
      "text/plain": [
       "Discrete(7)"
      ]
     },
     "execution_count": 18,
     "metadata": {},
     "output_type": "execute_result"
    }
   ],
   "source": [
    "env = ConnectFourBaseEnv()\n",
    "env.action_space"
   ]
  },
  {
   "cell_type": "code",
   "execution_count": 19,
   "id": "fd9d7ee8",
   "metadata": {},
   "outputs": [],
   "source": [
    "input_agent = InputAgent()\n",
    "minimax_agent = MinimaxAgent(1)\n",
    "space_agent = SpaceGPTAgent(2, 4)"
   ]
  },
  {
   "cell_type": "code",
   "execution_count": 20,
   "id": "8b1b24ba",
   "metadata": {},
   "outputs": [
    {
     "name": "stdout",
     "output_type": "stream",
     "text": [
      "   0   1   2   3   4   5   6  \n",
      " |   |   |   |   |   |   |   |\n",
      " |   |   |   |   |   |   |   |\n",
      " |   |   |   |   |   |   |   |\n",
      " |   |   |   |   |   |   |   |\n",
      " |   |   |   |   |   |   |   |\n",
      " |   |   |   |   |   |   |   |\n",
      "-------------------------------\n",
      "   0   1   2   3   4   5   6  \n",
      " |   |   |   |   |   |   |   |\n",
      " |   |   |   |   |   |   |   |\n",
      " |   |   |   |   |   |   |   |\n",
      " |   |   |   |   |   |   |   |\n",
      " |   |   |   |   |   |   |   |\n",
      " |   |   |   |   |   |   | O |\n",
      "-------------------------------\n",
      "   0   1   2   3   4   5   6  \n",
      " |   |   |   |   |   |   |   |\n",
      " |   |   |   |   |   |   |   |\n",
      " |   |   |   |   |   |   |   |\n",
      " |   |   |   |   |   |   |   |\n",
      " |   |   |   |   |   |   |   |\n",
      " |   |   |   |   |   | X | O |\n",
      "-------------------------------\n",
      "   0   1   2   3   4   5   6  \n",
      " |   |   |   |   |   |   |   |\n",
      " |   |   |   |   |   |   |   |\n",
      " |   |   |   |   |   |   |   |\n",
      " |   |   |   |   |   |   |   |\n",
      " |   |   |   |   |   |   |   |\n",
      " |   |   |   |   | O | O | O |\n",
      "-------------------------------\n",
      "   0   1   2   3   4   5   6  \n",
      " |   |   |   |   |   |   |   |\n",
      " |   |   |   |   |   |   |   |\n",
      " |   |   |   |   |   |   |   |\n",
      " |   |   |   |   |   |   |   |\n",
      " |   |   |   |   |   |   |   |\n",
      " |   | X |   |   | O | O | O |\n",
      "-------------------------------\n",
      "   0   1   2   3   4   5   6  \n",
      " |   |   |   |   |   |   |   |\n",
      " |   |   |   |   |   |   |   |\n",
      " |   |   |   |   |   |   |   |\n",
      " |   |   |   |   |   |   |   |\n",
      " |   |   |   |   |   | O |   |\n",
      " |   | X |   |   | O | O | O |\n",
      "-------------------------------\n",
      "   0   1   2   3   4   5   6  \n",
      " |   |   |   |   |   |   |   |\n",
      " |   |   |   |   |   |   |   |\n",
      " |   |   |   |   |   |   |   |\n",
      " |   |   |   |   |   |   |   |\n",
      " |   |   |   |   |   | O | X |\n",
      " |   | X |   |   | O | O | O |\n",
      "-------------------------------\n",
      "   0   1   2   3   4   5   6  \n",
      " |   |   |   |   |   |   |   |\n",
      " |   |   |   |   |   |   |   |\n",
      " |   |   |   |   |   |   |   |\n",
      " |   |   |   |   |   |   |   |\n",
      " |   |   |   |   | O | O | X |\n",
      " |   | X |   |   | O | O | O |\n",
      "-------------------------------\n",
      "   0   1   2   3   4   5   6  \n",
      " |   |   |   |   |   |   |   |\n",
      " |   |   |   |   |   |   |   |\n",
      " |   |   |   |   |   |   |   |\n",
      " |   |   |   |   |   |   |   |\n",
      " |   |   |   |   | O | O | X |\n",
      " |   | X |   | X | O | O | O |\n",
      "-------------------------------\n",
      "   0   1   2   3   4   5   6  \n",
      " |   |   |   |   |   |   |   |\n",
      " |   |   |   |   |   |   |   |\n",
      " |   |   |   |   |   |   |   |\n",
      " |   |   |   |   |   |   |   |\n",
      " |   |   |   |   | O | O | X |\n",
      " |   | X | O | O | O | O | O |\n",
      "-------------------------------\n",
      "   0   1   2   3   4   5   6  \n",
      " |   |   |   |   |   |   |   |\n",
      " |   |   |   |   |   |   |   |\n",
      " |   |   |   |   |   |   |   |\n",
      " |   |   |   |   |   |   |   |\n",
      " |   |   |   |   | O | O | X |\n",
      " |   | X | O | O | O | O | O |\n",
      "-------------------------------\n",
      "Player 1 WON!!!\n"
     ]
    }
   ],
   "source": [
    "from play import play_vs_other_agent, play_vs_loaded_agent\n",
    "\n",
    "play_vs_loaded_agent(env, agent=space_agent)\n",
    "# play_vs_other_agent(env, agent1 = minimax_agent , agent2 = input_agent)"
   ]
  }
 ],
 "metadata": {
  "kernelspec": {
   "display_name": "Python 3 (ipykernel)",
   "language": "python",
   "name": "python3"
  },
  "language_info": {
   "codemirror_mode": {
    "name": "ipython",
    "version": 3
   },
   "file_extension": ".py",
   "mimetype": "text/x-python",
   "name": "python",
   "nbconvert_exporter": "python",
   "pygments_lexer": "ipython3",
   "version": "3.10.11"
  }
 },
 "nbformat": 4,
 "nbformat_minor": 5
}
