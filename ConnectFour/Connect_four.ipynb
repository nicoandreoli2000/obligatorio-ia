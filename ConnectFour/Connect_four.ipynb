{
 "cells": [
  {
   "cell_type": "code",
   "execution_count": 1,
   "id": "086e05c2",
   "metadata": {},
   "outputs": [],
   "source": [
    "from connect_four_env import ConnectFourBaseEnv\n",
    "from agent import InputAgent\n",
    "from MinimaxAgent import MinimaxAgent\n",
    "from play import play_vs_other_agent, play_vs_loaded_agent\n",
    "from datetime import datetime\n"
   ]
  },
  {
   "cell_type": "code",
   "execution_count": 2,
   "id": "6867ae7a",
   "metadata": {},
   "outputs": [],
   "source": [
    "env = ConnectFourBaseEnv()"
   ]
  },
  {
   "cell_type": "code",
   "execution_count": 3,
   "id": "cb710b59",
   "metadata": {},
   "outputs": [
    {
     "name": "stdout",
     "output_type": "stream",
     "text": [
      "Depth 1 -> Player 2 WON!!! in 0:00:01.332213\n",
      "Depth 2 -> Player 1 WON!!! in 0:00:01.973830\n",
      "Depth 3 -> Player 1 WON!!! in 0:00:00.483792\n",
      "Depth 4 -> Player 1 WON!!! in 0:00:01.413005\n",
      "Depth 5 -> Player 1 WON!!! in 0:00:07.465242\n",
      "Depth 6 -> Player 1 WON!!! in 0:00:47.041577\n"
     ]
    }
   ],
   "source": [
    "max_depth = 6\n",
    "\n",
    "for i in range(1, max_depth + 1):\n",
    "    minimax_agent_test = MinimaxAgent(1, i)\n",
    "    start_time = datetime.now()\n",
    "    result = play_vs_loaded_agent(env, minimax_agent_test, False)\n",
    "    total_time = datetime.now() - start_time\n",
    "    print(f\"Depth {i} -> {result} in {total_time}\")\n",
    "\n"
   ]
  },
  {
   "cell_type": "code",
   "execution_count": 4,
   "id": "008a0e92",
   "metadata": {},
   "outputs": [
    {
     "name": "stdout",
     "output_type": "stream",
     "text": [
      "   0   1   2   3   4   5   6  \n",
      " |   |   |   |   |   |   |   |\n",
      " |   |   |   |   |   |   |   |\n",
      " |   |   |   |   |   |   |   |\n",
      " |   |   |   |   |   |   |   |\n",
      " |   |   |   |   |   |   |   |\n",
      " |   |   |   |   |   |   |   |\n",
      "-------------------------------\n",
      "   0   1   2   3   4   5   6  \n",
      " |   |   |   |   |   |   |   |\n",
      " |   |   |   |   |   |   |   |\n",
      " |   |   |   |   |   |   |   |\n",
      " |   |   |   |   |   |   |   |\n",
      " |   |   |   |   |   |   |   |\n",
      " |   |   | O |   |   |   |   |\n",
      "-------------------------------\n",
      "   0   1   2   3   4   5   6  \n",
      " |   |   |   |   |   |   |   |\n",
      " |   |   |   |   |   |   |   |\n",
      " |   |   |   |   |   |   |   |\n",
      " |   |   |   |   |   |   |   |\n",
      " |   |   | X |   |   |   |   |\n",
      " |   |   | O |   |   |   |   |\n",
      "-------------------------------\n",
      "   0   1   2   3   4   5   6  \n",
      " |   |   |   |   |   |   |   |\n",
      " |   |   |   |   |   |   |   |\n",
      " |   |   |   |   |   |   |   |\n",
      " |   |   |   |   |   |   |   |\n",
      " |   |   | X |   |   |   |   |\n",
      " |   | O | O |   |   |   |   |\n",
      "-------------------------------\n",
      "   0   1   2   3   4   5   6  \n",
      " |   |   |   |   |   |   |   |\n",
      " |   |   |   |   |   |   |   |\n",
      " |   |   |   |   |   |   |   |\n",
      " |   |   | X |   |   |   |   |\n",
      " |   |   | X |   |   |   |   |\n",
      " |   | O | O |   |   |   |   |\n",
      "-------------------------------\n",
      "   0   1   2   3   4   5   6  \n",
      " |   |   |   |   |   |   |   |\n",
      " |   |   |   |   |   |   |   |\n",
      " |   |   |   |   |   |   |   |\n",
      " |   |   | X |   |   |   |   |\n",
      " |   |   | X |   |   |   |   |\n",
      " |   | O | O | O |   |   |   |\n",
      "-------------------------------\n",
      "   0   1   2   3   4   5   6  \n",
      " |   |   |   |   |   |   |   |\n",
      " |   |   |   |   |   |   |   |\n",
      " |   |   | X |   |   |   |   |\n",
      " |   |   | X |   |   |   |   |\n",
      " |   |   | X |   |   |   |   |\n",
      " |   | O | O | O |   |   |   |\n",
      "-------------------------------\n",
      "   0   1   2   3   4   5   6  \n",
      " |   |   |   |   |   |   |   |\n",
      " |   |   |   |   |   |   |   |\n",
      " |   |   | X |   |   |   |   |\n",
      " |   |   | X |   |   |   |   |\n",
      " |   |   | X |   |   |   |   |\n",
      " |   | O | O | O | O |   |   |\n",
      "-------------------------------\n",
      "   0   1   2   3   4   5   6  \n",
      " |   |   |   |   |   |   |   |\n",
      " |   |   |   |   |   |   |   |\n",
      " |   |   | X |   |   |   |   |\n",
      " |   |   | X |   |   |   |   |\n",
      " |   |   | X |   |   |   |   |\n",
      " |   | O | O | O | O |   |   |\n",
      "-------------------------------\n",
      "Player 1 WON!!!\n"
     ]
    }
   ],
   "source": [
    "player = 1\n",
    "difficulty = 4\n",
    "\n",
    "minimax_agent = MinimaxAgent(player, difficulty)\n",
    "input_agent = InputAgent()\n",
    "\n",
    "if player == 1:\n",
    "    play_vs_other_agent(env, minimax_agent, input_agent)\n",
    "elif player == 2:\n",
    "    play_vs_other_agent(env, input_agent, minimax_agent)\n",
    "else:\n",
    "    print(\"Invalid player\")"
   ]
  }
 ],
 "metadata": {
  "kernelspec": {
   "display_name": "Python 3 (ipykernel)",
   "language": "python",
   "name": "python3"
  },
  "language_info": {
   "codemirror_mode": {
    "name": "ipython",
    "version": 3
   },
   "file_extension": ".py",
   "mimetype": "text/x-python",
   "name": "python",
   "nbconvert_exporter": "python",
   "pygments_lexer": "ipython3",
   "version": "3.10.11"
  }
 },
 "nbformat": 4,
 "nbformat_minor": 5
}
