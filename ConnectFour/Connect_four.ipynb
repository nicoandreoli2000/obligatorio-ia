{
 "cells": [
  {
   "cell_type": "code",
   "execution_count": null,
   "id": "086e05c2",
   "metadata": {},
   "outputs": [],
   "source": [
    "from connect_four_env import ConnectFourBaseEnv\n",
    "from agent import InputAgent"
   ]
  },
  {
   "cell_type": "code",
   "execution_count": null,
   "id": "6867ae7a",
   "metadata": {},
   "outputs": [],
   "source": [
    "env = ConnectFourBaseEnv()\n",
    "env.action_space"
   ]
  },
  {
   "cell_type": "code",
   "execution_count": null,
   "id": "fd9d7ee8",
   "metadata": {},
   "outputs": [],
   "source": [
    "input_agent = InputAgent()"
   ]
  },
  {
   "cell_type": "code",
   "execution_count": null,
   "id": "282a81ce",
   "metadata": {},
   "outputs": [],
   "source": [
    "from play import play_vs_other_agent, play_vs_loaded_agent\n",
    "\n",
    "play_vs_loaded_agent(env, agent=input_agent)"
   ]
  },
  {
   "cell_type": "code",
   "execution_count": null,
   "metadata": {},
   "outputs": [],
   "source": [
    "play_vs_other_agent(env, agent1=input_agent, agent2=input_agent)"
   ]
  }
 ],
 "metadata": {
  "kernelspec": {
   "display_name": "Python 3 (ipykernel)",
   "language": "python",
   "name": "python3"
  },
  "language_info": {
   "codemirror_mode": {
    "name": "ipython",
    "version": 3
   },
   "file_extension": ".py",
   "mimetype": "text/x-python",
   "name": "python",
   "nbconvert_exporter": "python",
   "pygments_lexer": "ipython3",
   "version": "3.9.6"
  }
 },
 "nbformat": 4,
 "nbformat_minor": 5
}
