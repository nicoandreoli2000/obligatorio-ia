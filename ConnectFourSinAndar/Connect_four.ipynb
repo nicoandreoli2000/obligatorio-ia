{
 "cells": [
  {
   "cell_type": "code",
   "execution_count": 6,
   "id": "086e05c2",
   "metadata": {},
   "outputs": [],
   "source": [
    "from connect_four_env import ConnectFourBaseEnv\n",
    "from agent import InputAgent\n",
    "from minimax import Minimax_agent\n",
    "from spaceGPT_agent_obf import SpaceGPTAgent"
   ]
  },
  {
   "cell_type": "code",
   "execution_count": 7,
   "id": "6867ae7a",
   "metadata": {},
   "outputs": [
    {
     "data": {
      "text/plain": [
       "Discrete(7)"
      ]
     },
     "execution_count": 7,
     "metadata": {},
     "output_type": "execute_result"
    }
   ],
   "source": [
    "env = ConnectFourBaseEnv()\n",
    "env.action_space"
   ]
  },
  {
   "cell_type": "code",
   "execution_count": 8,
   "id": "fd9d7ee8",
   "metadata": {},
   "outputs": [],
   "source": [
    "input_agent = InputAgent()"
   ]
  },
  {
   "cell_type": "code",
   "execution_count": 9,
   "id": "e24c0527",
   "metadata": {},
   "outputs": [],
   "source": [
    "minmax_agent1 = Minimax_agent(4)\n",
    "gpt_agent = SpaceGPTAgent(2,4)"
   ]
  },
  {
   "cell_type": "code",
   "execution_count": 10,
   "id": "0107eb4c",
   "metadata": {},
   "outputs": [
    {
     "name": "stdout",
     "output_type": "stream",
     "text": [
      "   0   1   2   3   4   5   6  \n",
      " |   |   |   |   |   |   |   |\n",
      " |   |   |   |   |   |   |   |\n",
      " |   |   |   |   |   |   |   |\n",
      " |   |   |   |   |   |   |   |\n",
      " |   |   |   |   |   |   |   |\n",
      " |   |   |   |   |   |   |   |\n",
      "-------------------------------\n",
      "   0   1   2   3   4   5   6  \n",
      " |   |   |   |   |   |   |   |\n",
      " |   |   |   |   |   |   |   |\n",
      " |   |   |   |   |   |   |   |\n",
      " |   |   |   |   |   |   |   |\n",
      " |   |   |   |   |   |   |   |\n",
      " |   |   |   |   |   |   | O |\n",
      "-------------------------------\n"
     ]
    },
    {
     "ename": "AttributeError",
     "evalue": "'ConnectFourBaseEnv' object has no attribute 'is_final'",
     "output_type": "error",
     "traceback": [
      "\u001b[1;31m---------------------------------------------------------------------------\u001b[0m",
      "\u001b[1;31mAttributeError\u001b[0m                            Traceback (most recent call last)",
      "Cell \u001b[1;32mIn[10], line 2\u001b[0m\n\u001b[0;32m      1\u001b[0m \u001b[38;5;28;01mfrom\u001b[39;00m \u001b[38;5;21;01mplay\u001b[39;00m \u001b[38;5;28;01mimport\u001b[39;00m play_vs_other_agent, play_vs_loaded_agent\n\u001b[1;32m----> 2\u001b[0m play_vs_other_agent(env, agent1\u001b[38;5;241m=\u001b[39mgpt_agent, agent2\u001b[38;5;241m=\u001b[39mgpt_agent)\n",
      "File \u001b[1;32m~\\Downloads\\IA\\ConnectFour\\play.py:15\u001b[0m, in \u001b[0;36mplay_vs_other_agent\u001b[1;34m(env, agent1, agent2)\u001b[0m\n\u001b[0;32m     13\u001b[0m     env\u001b[38;5;241m.\u001b[39mrender()\n\u001b[0;32m     14\u001b[0m     \u001b[38;5;28;01mif\u001b[39;00m \u001b[38;5;129;01mnot\u001b[39;00m done:\n\u001b[1;32m---> 15\u001b[0m         next_action \u001b[38;5;241m=\u001b[39m agent2\u001b[38;5;241m.\u001b[39mnext_action(env)  \u001b[38;5;66;03m# Llama a la función next_action del objeto Minimax_agent\u001b[39;00m\n\u001b[0;32m     16\u001b[0m         _, _, done, _ \u001b[38;5;241m=\u001b[39m env\u001b[38;5;241m.\u001b[39mstep(next_action)\n\u001b[0;32m     18\u001b[0m env\u001b[38;5;241m.\u001b[39mrender()\n",
      "File \u001b[1;32m~\\Downloads\\IA\\ConnectFour\\spaceGPT_agent_obf.py:9\u001b[0m, in \u001b[0;36mSpaceGPTAgent.next_action\u001b[1;34m(self, lllIlIlIIIIlIllllIIl)\u001b[0m\n\u001b[0;32m      8\u001b[0m \u001b[38;5;28;01mdef\u001b[39;00m \u001b[38;5;21mnext_action\u001b[39m(\u001b[38;5;28mself\u001b[39m, lllIlIlIIIIlIllllIIl):\n\u001b[1;32m----> 9\u001b[0m     lIIllIIllIIIlIIl, llIlIlllIIllIIlllII \u001b[38;5;241m=\u001b[39m \u001b[38;5;28mself\u001b[39m\u001b[38;5;241m.\u001b[39mIIIIIIlllIIlIIII(lllIlIlIIIIlIllllIIl, \u001b[38;5;28mself\u001b[39m\u001b[38;5;241m.\u001b[39mIlllIIllIII, \u001b[38;5;28mself\u001b[39m\u001b[38;5;241m.\u001b[39mlIlIIIlllII)\n\u001b[0;32m     10\u001b[0m     \u001b[38;5;28;01mreturn\u001b[39;00m lIIllIIllIIIlIIl\n",
      "File \u001b[1;32m~\\Downloads\\IA\\ConnectFour\\spaceGPT_agent_obf.py:15\u001b[0m, in \u001b[0;36mSpaceGPTAgent.IIIIIIlllIIlIIII\u001b[1;34m(self, llIllllllIl, IlllIIllIII, llllIlllllIl)\u001b[0m\n\u001b[0;32m     14\u001b[0m \u001b[38;5;28;01mdef\u001b[39;00m \u001b[38;5;21mIIIIIIlllIIlIIII\u001b[39m(\u001b[38;5;28mself\u001b[39m, llIllllllIl, IlllIIllIII: \u001b[38;5;28mint\u001b[39m, llllIlllllIl: \u001b[38;5;28mint\u001b[39m \u001b[38;5;241m=\u001b[39m \u001b[38;5;241m2\u001b[39m):\n\u001b[1;32m---> 15\u001b[0m     \u001b[38;5;28;01mif\u001b[39;00m llIllllllIl\u001b[38;5;241m.\u001b[39mis_final() \u001b[38;5;129;01mor\u001b[39;00m llllIlllllIl \u001b[38;5;241m==\u001b[39m \u001b[38;5;241m0\u001b[39m:\n\u001b[0;32m     16\u001b[0m         \u001b[38;5;28;01mreturn\u001b[39;00m \u001b[38;5;28;01mNone\u001b[39;00m, \u001b[38;5;28mself\u001b[39m\u001b[38;5;241m.\u001b[39mIIIlIIlIIlllI(llIllllllIl)\n\u001b[0;32m     17\u001b[0m     \u001b[38;5;28;01mif\u001b[39;00m IlllIIllIII \u001b[38;5;241m!=\u001b[39m \u001b[38;5;28mself\u001b[39m\u001b[38;5;241m.\u001b[39mIlllIIllIII:\n",
      "\u001b[1;31mAttributeError\u001b[0m: 'ConnectFourBaseEnv' object has no attribute 'is_final'"
     ]
    }
   ],
   "source": [
    "from play import play_vs_other_agent, play_vs_loaded_agent\n",
    "play_vs_other_agent(env, agent1=gpt_agent, agent2=gpt_agent)"
   ]
  },
  {
   "cell_type": "code",
   "execution_count": null,
   "id": "282a81ce",
   "metadata": {
    "scrolled": true
   },
   "outputs": [
    {
     "name": "stdout",
     "output_type": "stream",
     "text": [
      "   0   1   2   3   4   5   6  \n",
      " |   |   |   |   |   |   |   |\n",
      " |   |   |   |   |   |   |   |\n",
      " |   |   |   |   |   |   |   |\n",
      " |   |   |   |   |   |   |   |\n",
      " |   |   |   |   |   |   |   |\n",
      " |   |   |   |   |   |   |   |\n",
      "-------------------------------\n",
      "3\n",
      "   0   1   2   3   4   5   6  \n",
      " |   |   |   |   |   |   |   |\n",
      " |   |   |   |   |   |   |   |\n",
      " |   |   |   |   |   |   |   |\n",
      " |   |   |   |   |   |   |   |\n",
      " |   |   |   |   |   |   |   |\n",
      " |   |   |   | O |   |   |   |\n",
      "-------------------------------\n",
      "   0   1   2   3   4   5   6  \n",
      " |   |   |   |   |   |   |   |\n",
      " |   |   |   |   |   |   |   |\n",
      " |   |   |   |   |   |   |   |\n",
      " |   |   |   |   |   |   |   |\n",
      " |   |   |   |   |   |   |   |\n",
      " | X |   |   | O |   |   |   |\n",
      "-------------------------------\n"
     ]
    }
   ],
   "source": [
    "from play import play_vs_other_agent, play_vs_loaded_agent\n",
    "\n",
    "play_vs_loaded_agent(env, agent=input_agent)"
   ]
  },
  {
   "cell_type": "code",
   "execution_count": null,
   "id": "b8943237",
   "metadata": {},
   "outputs": [],
   "source": []
  }
 ],
 "metadata": {
  "kernelspec": {
   "display_name": "Python 3 (ipykernel)",
   "language": "python",
   "name": "python3"
  },
  "language_info": {
   "codemirror_mode": {
    "name": "ipython",
    "version": 3
   },
   "file_extension": ".py",
   "mimetype": "text/x-python",
   "name": "python",
   "nbconvert_exporter": "python",
   "pygments_lexer": "ipython3",
   "version": "3.11.3"
  }
 },
 "nbformat": 4,
 "nbformat_minor": 5
}
