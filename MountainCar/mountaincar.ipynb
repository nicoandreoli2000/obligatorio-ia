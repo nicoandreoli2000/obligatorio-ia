{
 "cells": [
  {
   "cell_type": "code",
   "execution_count": 128,
   "metadata": {},
   "outputs": [],
   "source": [
    "import numpy as np\n",
    "from MountainCarEnv import MountainCarEnv\n",
    "import matplotlib.pyplot as plot"
   ]
  },
  {
   "cell_type": "code",
   "execution_count": 129,
   "metadata": {},
   "outputs": [],
   "source": [
    "env = MountainCarEnv(render_mode=\"rbg_array\")"
   ]
  },
  {
   "cell_type": "code",
   "execution_count": 130,
   "metadata": {},
   "outputs": [],
   "source": [
    "pos_space = np.linspace(env.min_position, env.max_position, 20)\n",
    "vel_space = np.linspace(-env.max_speed, env.max_speed, 20)\n",
    "Q = np.zeros((len(pos_space), len(vel_space), env.action_space.n))\n"
   ]
  },
  {
   "cell_type": "code",
   "execution_count": 131,
   "metadata": {},
   "outputs": [],
   "source": [
    "def epsilon_greedy_policy(state, Q, epsilon):\n",
    "    explore = np.random.binomial(1, epsilon)\n",
    "    if explore:\n",
    "        action = env.action_space.sample()\n",
    "    else:\n",
    "        action = np.argmax(Q[state[0], state[1]])\n",
    "    return action\n",
    "\n",
    "def get_state(obs):\n",
    "    pos, vel = obs\n",
    "    pos_bin = np.digitize(pos, pos_space)\n",
    "    vel_bin = np.digitize(vel, vel_space)\n",
    "    return pos_bin, vel_bin\n",
    "\n",
    "def run_mountain_car(Q, epsilon, alpha, gamma):\n",
    "    done = False\n",
    "    totalReward = 0\n",
    "    obs = env.reset()\n",
    "    state = get_state(obs)\n",
    "    while not done:\n",
    "        action = epsilon_greedy_policy(state, Q, epsilon)\n",
    "        obs, reward, done, _ = env.step(action)\n",
    "        totalReward += reward\n",
    "        newState = get_state(obs)\n",
    "        delta = alpha * (reward + gamma * np.max(Q[newState[0], newState[1]]) - Q[state[0], state[1], action])\n",
    "        Q[state[0], state[1], action] += delta\n",
    "        state = newState\n",
    "    return totalReward\n",
    "\n"
   ]
  },
  {
   "cell_type": "code",
   "execution_count": 132,
   "metadata": {},
   "outputs": [
    {
     "name": "stdout",
     "output_type": "stream",
     "text": [
      "Episode 1000 out of 100000; Reward -500.0; Epsilon 0.97999999999998\n",
      "Episode 2000 out of 100000; Reward -500.0; Epsilon 0.95999999999996\n",
      "Episode 3000 out of 100000; Reward -500.0; Epsilon 0.93999999999994\n",
      "Episode 4000 out of 100000; Reward -500.0; Epsilon 0.91999999999992\n",
      "Episode 5000 out of 100000; Reward -500.0; Epsilon 0.8999999999999\n",
      "Episode 6000 out of 100000; Reward -500.0; Epsilon 0.87999999999988\n",
      "Episode 7000 out of 100000; Reward -500.0; Epsilon 0.85999999999986\n",
      "Episode 8000 out of 100000; Reward -500.0; Epsilon 0.83999999999984\n",
      "Episode 9000 out of 100000; Reward -500.0; Epsilon 0.81999999999982\n",
      "Episode 10000 out of 100000; Reward -500.0; Epsilon 0.7999999999998\n",
      "Episode 11000 out of 100000; Reward -493.0; Epsilon 0.77999999999978\n",
      "Episode 12000 out of 100000; Reward -500.0; Epsilon 0.75999999999976\n",
      "Episode 13000 out of 100000; Reward -500.0; Epsilon 0.73999999999974\n",
      "Episode 14000 out of 100000; Reward -500.0; Epsilon 0.71999999999972\n",
      "Episode 15000 out of 100000; Reward -500.0; Epsilon 0.6999999999997\n",
      "Episode 16000 out of 100000; Reward -500.0; Epsilon 0.67999999999968\n",
      "Episode 17000 out of 100000; Reward -500.0; Epsilon 0.65999999999966\n",
      "Episode 18000 out of 100000; Reward -500.0; Epsilon 0.63999999999964\n",
      "Episode 19000 out of 100000; Reward -500.0; Epsilon 0.61999999999962\n",
      "Episode 20000 out of 100000; Reward -294.0; Epsilon 0.5999999999996\n",
      "Episode 21000 out of 100000; Reward -500.0; Epsilon 0.57999999999958\n",
      "Episode 22000 out of 100000; Reward -500.0; Epsilon 0.55999999999956\n",
      "Episode 23000 out of 100000; Reward -354.0; Epsilon 0.53999999999954\n"
     ]
    }
   ],
   "source": [
    "numOfEpisodes = 1000000\n",
    "printInterval = 1000\n",
    "\n",
    "epsilon=1\n",
    "reduction = 2.5*epsilon/numOfEpisodes\n",
    "\n",
    "alpha=0.1\n",
    "gamma=0.999\n",
    "\n",
    "totalRewards = np.zeros(numOfEpisodes)\n",
    "totalQ = np.zeros(numOfEpisodes)\n",
    "\n",
    "for i in range(numOfEpisodes):\n",
    "    totalReward = run_mountain_car(Q, epsilon, alpha, gamma)\n",
    "    totalRewards[i] = totalReward\n",
    "    totalQ[i] = np.mean(Q)\n",
    "    if epsilon > 0.01:\n",
    "        epsilon -= reduction\n",
    "    if (i+1) % printInterval == 0:\n",
    "        print(f\"Episode {i+1} out of {numOfEpisodes}; Reward {totalReward}; Epsilon {epsilon}\")\n",
    "\n"
   ]
  },
  {
   "cell_type": "code",
   "execution_count": null,
   "metadata": {},
   "outputs": [],
   "source": [
    "avgRewards = np.zeros((int)(numOfEpisodes/printInterval))\n",
    "avgQ = np.zeros((int)(numOfEpisodes/printInterval))\n",
    "\n",
    "for i in range(numOfEpisodes):\n",
    "    if (i+1) % printInterval == 0:\n",
    "        index = (int)(i/printInterval)\n",
    "        avgQ[index] = np.mean(totalQ[i+1-printInterval:i+1])\n",
    "        avgRewards[index] = np.mean(totalRewards[i+1-printInterval:i+1])\n",
    "\n",
    "\n",
    "\n",
    "plot.plot(avgRewards)\n",
    "plot.xlabel(\"Time\")\n",
    "plot.ylabel(\"Reward\")\n",
    "plot.title(\"Reward vs Time\")\n",
    "plot.show()\n",
    "plot.close()\n",
    "\n",
    "plot.plot(totalRewards)\n",
    "plot.xlabel(\"Episode\")\n",
    "plot.ylabel(\"Reward\")\n",
    "plot.title(\"Reward vs Episode\")\n",
    "plot.show()\n",
    "plot.close()\n",
    "\n",
    "\n",
    "plot.plot(avgQ)\n",
    "plot.xlabel(\"Q\")\n",
    "plot.ylabel(\"Time\")\n",
    "plot.title(\"Q vs Time\")\n",
    "plot.show()\n",
    "plot.close()\n",
    "\n",
    "plot.plot(totalQ)\n",
    "plot.xlabel(\"Episode\")\n",
    "plot.ylabel(\"Q\")\n",
    "plot.title(\"Q vs Episode\")\n",
    "plot.show()\n",
    "plot.close()\n",
    "\n",
    "\n"
   ]
  }
 ],
 "metadata": {
  "kernelspec": {
   "display_name": "Python 3",
   "language": "python",
   "name": "python3"
  },
  "language_info": {
   "codemirror_mode": {
    "name": "ipython",
    "version": 3
   },
   "file_extension": ".py",
   "mimetype": "text/x-python",
   "name": "python",
   "nbconvert_exporter": "python",
   "pygments_lexer": "ipython3",
   "version": "3.10.11"
  },
  "orig_nbformat": 4
 },
 "nbformat": 4,
 "nbformat_minor": 2
}
