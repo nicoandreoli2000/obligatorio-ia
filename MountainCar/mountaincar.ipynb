{
 "cells": [
  {
   "cell_type": "code",
   "execution_count": 26,
   "metadata": {},
   "outputs": [],
   "source": [
    "import numpy as np\n",
    "from MountainCarEnv import MountainCarEnv\n",
    "import matplotlib.pyplot as plot"
   ]
  },
  {
   "cell_type": "code",
   "execution_count": 27,
   "metadata": {},
   "outputs": [],
   "source": [
    "env = MountainCarEnv(render_mode=\"human\")"
   ]
  },
  {
   "cell_type": "code",
   "execution_count": 28,
   "metadata": {},
   "outputs": [],
   "source": [
    "def epsilon_greedy_policy(state, Q, epsilon=0.1):\n",
    "    explore = np.random.binomial(1, epsilon)\n",
    "    if explore:\n",
    "        action = env.action_space.sample()\n",
    "    else:\n",
    "        action = np.argmax(Q[state])\n",
    "    return action\n",
    "\n",
    "def optimal_policy(state, Q):\n",
    "    action = np.argmax(Q[state])\n",
    "    return action\n",
    "\n",
    "def get_state(obs):\n",
    "    pos, vel = obs\n",
    "    pos_bin = np.digitize(pos, pos_space)\n",
    "    vel_bin = np.digitize(vel, vel_space)\n",
    "    return pos_bin, vel_bin"
   ]
  },
  {
   "cell_type": "code",
   "execution_count": 29,
   "metadata": {},
   "outputs": [
    {
     "data": {
      "text/plain": [
       "array([[[0., 0., 0.],\n",
       "        [0., 0., 0.],\n",
       "        [0., 0., 0.]],\n",
       "\n",
       "       [[0., 0., 0.],\n",
       "        [0., 0., 0.],\n",
       "        [0., 0., 0.]],\n",
       "\n",
       "       [[0., 0., 0.],\n",
       "        [0., 0., 0.],\n",
       "        [0., 0., 0.]],\n",
       "\n",
       "       [[0., 0., 0.],\n",
       "        [0., 0., 0.],\n",
       "        [0., 0., 0.]],\n",
       "\n",
       "       [[0., 0., 0.],\n",
       "        [0., 0., 0.],\n",
       "        [0., 0., 0.]],\n",
       "\n",
       "       [[0., 0., 0.],\n",
       "        [0., 0., 0.],\n",
       "        [0., 0., 0.]],\n",
       "\n",
       "       [[0., 0., 0.],\n",
       "        [0., 0., 0.],\n",
       "        [0., 0., 0.]],\n",
       "\n",
       "       [[0., 0., 0.],\n",
       "        [0., 0., 0.],\n",
       "        [0., 0., 0.]],\n",
       "\n",
       "       [[0., 0., 0.],\n",
       "        [0., 0., 0.],\n",
       "        [0., 0., 0.]],\n",
       "\n",
       "       [[0., 0., 0.],\n",
       "        [0., 0., 0.],\n",
       "        [0., 0., 0.]],\n",
       "\n",
       "       [[0., 0., 0.],\n",
       "        [0., 0., 0.],\n",
       "        [0., 0., 0.]]])"
      ]
     },
     "execution_count": 29,
     "metadata": {},
     "output_type": "execute_result"
    }
   ],
   "source": [
    "pos_space = np.linspace(-5, 5, 10)\n",
    "vel_space = np.linspace(-3, 3, 2)\n",
    "pos_space\n",
    "\n",
    "state = get_state(np.array([-0.4, 0.2]))\n",
    "state\n",
    "\n",
    "actions = list(range(env.action_space.n))\n",
    "actions\n",
    "\n",
    "Q = np.zeros((11,3,3))\n",
    "Q"
   ]
  },
  {
   "cell_type": "code",
   "execution_count": 30,
   "metadata": {},
   "outputs": [],
   "source": [
    "mean_Q = []\n",
    "max_Q = []\n",
    "learning_rewards = []\n",
    "testing_rewards = []\n",
    "\n",
    "epsilon = 0.1  # Exploration rate\n",
    "alpha = 0.1  # Learning rate\n",
    "num_episodes = 2000  # Number of episodes for learning\n",
    "num_test_episodes = 100  # Number of episodes for testing\n",
    "Q = np.zeros((len(pos_space) + 1, len(vel_space) + 1, len(actions)))  # Q-table initialization\n"
   ]
  },
  {
   "cell_type": "code",
   "execution_count": 31,
   "metadata": {},
   "outputs": [],
   "source": [
    "def q_learning(env, Q, num_episodes, epsilon, alpha):\n",
    "    for episode in range(num_episodes):\n",
    "        state = get_state(env.reset())\n",
    "        done = False\n",
    "        total_reward = 0\n",
    "\n",
    "        while not done:\n",
    "            action = epsilon_greedy_policy(state, Q, epsilon)\n",
    "            next_state, reward, done, _ = env.step(action)\n",
    "            next_state = get_state(next_state)\n",
    "\n",
    "            # Q-learning update\n",
    "            max_q_next = np.max(Q[next_state])\n",
    "            Q[state][action] += alpha * (reward + max_q_next - Q[state][action])\n",
    "\n",
    "            state = next_state\n",
    "            total_reward += reward\n",
    "\n",
    "        learning_rewards.append(total_reward)\n",
    "        mean_Q.append(np.mean(Q))\n",
    "        max_Q.append(np.max(Q))\n",
    "\n",
    "    return Q\n"
   ]
  },
  {
   "cell_type": "code",
   "execution_count": 32,
   "metadata": {},
   "outputs": [],
   "source": [
    "def test_policy(env, Q, num_episodes):\n",
    "    testing_rewards = []\n",
    "    \n",
    "    for episode in range(num_episodes):\n",
    "        state = get_state(env.reset())\n",
    "        done = False\n",
    "        total_reward = 0\n",
    "\n",
    "        while not done:\n",
    "            action = optimal_policy(state, Q)\n",
    "            next_state, reward, done, _ = env.step(action)\n",
    "            state = get_state(next_state)\n",
    "            total_reward += reward\n",
    "\n",
    "        testing_rewards.append(total_reward)\n",
    "\n",
    "    return testing_rewards\n"
   ]
  },
  {
   "cell_type": "code",
   "execution_count": 33,
   "metadata": {},
   "outputs": [],
   "source": [
    "# Learning\n",
    "Q = q_learning(env, Q, num_episodes, epsilon, alpha)\n",
    "\n",
    "# Testing\n",
    "testing_rewards = test_policy(env, Q, num_test_episodes)\n",
    "\n",
    "#Plot\n",
    "\n",
    "plt.plot(list(range(1, len(max_Q) + 1)), max_Q, color='red', label='Valor máximo de Q')\n",
    "plt.plot(list(range(1, len(mean_Q) + 1)), mean_Q, color='blue', label='Valor promedio de Q')\n",
    "plt.xlabel('Nro de partida', fontsize=20)\n",
    "plt.ylabel('Valor de Q', fontsize=20)\n",
    "plt.rcParams[\"figure.figsize\"] = (25, 10)\n",
    "plt.rcParams['xtick.labelsize'] = 'x-large'\n",
    "plt.rcParams['ytick.labelsize'] = 'x-large'\n",
    "plt.legend(loc='best')\n",
    "plt.show()"
   ]
  },
  {
   "cell_type": "code",
   "execution_count": null,
   "metadata": {},
   "outputs": [],
   "source": [
    "# import pygame\n",
    "\n",
    "# pygame.init()\n",
    "\n",
    "# display = pygame.display.set_mode((600, 400))\n",
    "\n",
    "# pygame.display.quit()"
   ]
  },
  {
   "cell_type": "code",
   "execution_count": null,
   "metadata": {},
   "outputs": [],
   "source": [
    "# obs = env.reset()\n",
    "# print(obs)\n",
    "# done = False\n",
    "# while not done:\n",
    "#     state = get_state(obs)\n",
    "#     action = epsilon_greedy_policy(state, Q, 0.5)\n",
    "#     obs, reward, done, _ = env.step(action)\n",
    "#     print('->', state, action, reward, obs, done)"
   ]
  }
 ],
 "metadata": {
  "kernelspec": {
   "display_name": "Python 3",
   "language": "python",
   "name": "python3"
  },
  "language_info": {
   "codemirror_mode": {
    "name": "ipython",
    "version": 3
   },
   "file_extension": ".py",
   "mimetype": "text/x-python",
   "name": "python",
   "nbconvert_exporter": "python",
   "pygments_lexer": "ipython3",
   "version": "3.10.11"
  },
  "orig_nbformat": 4
 },
 "nbformat": 4,
 "nbformat_minor": 2
}
